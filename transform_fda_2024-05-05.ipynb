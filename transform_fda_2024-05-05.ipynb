{
 "cells": [
  {
   "metadata": {
    "ExecuteTime": {
     "end_time": "2024-05-05T20:00:12.731702Z",
     "start_time": "2024-05-05T20:00:11.103247Z"
    }
   },
   "cell_type": "code",
   "source": [
    "import pandas as pd\n",
    "from rdkit import Chem\n",
    "from rdkit.Chem import Descriptors"
   ],
   "id": "f928d303d0821128",
   "outputs": [],
   "execution_count": 1
  },
  {
   "metadata": {
    "ExecuteTime": {
     "end_time": "2024-05-05T20:01:26.920388Z",
     "start_time": "2024-05-05T20:00:19.953539Z"
    }
   },
   "cell_type": "code",
   "source": [
    "def getMolDescriptors(mol, missingVal=0):\n",
    "    ''' calculate the full list of descriptors for a molecule\n",
    "    \n",
    "        missingVal is used if the descriptor cannot be calculated\n",
    "    '''\n",
    "    res = []\n",
    "    for nm, fn in Descriptors._descList:\n",
    "        if nm != 'Ipc':\n",
    "            try:\n",
    "                val = fn(mol)\n",
    "                res.append(val)\n",
    "            except:\n",
    "                print(nm)\n",
    "                return None\n",
    "    return res\n",
    "\n",
    "# Read CSV file containing ChEMBL ID and SMILES\n",
    "data_df = pd.read_csv(\"fda_original.csv\", delimiter=';')\n",
    "\n",
    "# Create DataFrame to store descriptors\n",
    "descriptors_df = pd.DataFrame(columns=[nm for nm, _ in Descriptors._descList if nm != 'Ipc'])\n",
    "\n",
    "# Initialize lists to store ChEMBL IDs and SMILES\n",
    "chembl_id_list = []\n",
    "smiles_list = []\n",
    "\n",
    "# Iterate through ChEMBL IDs and SMILES, and fetch descriptors\n",
    "for c, (chembl_id, smiles) in enumerate(zip(data_df[\"ChEMBL ID\"], data_df[\"Smiles\"])):\n",
    "    mol = Chem.MolFromSmiles(smiles)\n",
    "    if mol is not None:\n",
    "        descriptors = getMolDescriptors(mol)\n",
    "        if descriptors is not None and len(descriptors) == len(descriptors_df.columns):\n",
    "            descriptors_df.loc[c] = descriptors\n",
    "            chembl_id_list.append(chembl_id)\n",
    "            smiles_list.append(smiles)\n",
    "\n",
    "# Add ChEMBL ID and SMILES columns to descriptors DataFrame\n",
    "descriptors_df['ChEMBL ID'] = chembl_id_list\n",
    "descriptors_df['SMILES'] = smiles_list\n"
   ],
   "id": "initial_id",
   "outputs": [],
   "execution_count": 2
  },
  {
   "metadata": {
    "ExecuteTime": {
     "end_time": "2024-05-05T20:02:20.505574Z",
     "start_time": "2024-05-05T20:02:19.546288Z"
    }
   },
   "cell_type": "code",
   "source": [
    "# Write descriptors DataFrame to a new CSV file\n",
    "descriptors_df.to_csv(\"FDA_features.csv\", index=False)"
   ],
   "id": "cc9249b337755763",
   "outputs": [],
   "execution_count": 3
  }
 ],
 "metadata": {
  "kernelspec": {
   "display_name": "Python 3",
   "language": "python",
   "name": "python3"
  },
  "language_info": {
   "codemirror_mode": {
    "name": "ipython",
    "version": 2
   },
   "file_extension": ".py",
   "mimetype": "text/x-python",
   "name": "python",
   "nbconvert_exporter": "python",
   "pygments_lexer": "ipython2",
   "version": "2.7.6"
  }
 },
 "nbformat": 4,
 "nbformat_minor": 5
}
